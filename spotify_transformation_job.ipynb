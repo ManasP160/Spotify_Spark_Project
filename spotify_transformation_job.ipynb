{
	"metadata": {
		"kernelspec": {
			"name": "glue_pyspark",
			"display_name": "Glue PySpark",
			"language": "python"
		},
		"language_info": {
			"name": "Python_Glue_Session",
			"mimetype": "text/x-python",
			"codemirror_mode": {
				"name": "python",
				"version": 3
			},
			"pygments_lexer": "python3",
			"file_extension": ".py"
		}
	},
	"nbformat_minor": 4,
	"nbformat": 4,
	"cells": [
		{
			"cell_type": "code",
			"source": "%idle_timeout 2880\n%glue_version 4.0\n%worker_type G.1X\n%number_of_workers 5\n\nimport sys\nfrom awsglue.transforms import *\nfrom awsglue.utils import getResolvedOptions\nfrom pyspark.context import SparkContext\nfrom awsglue.context import GlueContext\nfrom awsglue.job import Job\n  \nsc = SparkContext.getOrCreate()\nglueContext = GlueContext(sc)\nspark = glueContext.spark_session\njob = Job(glueContext)",
			"metadata": {
				"trusted": true,
				"editable": true
			},
			"execution_count": 28,
			"outputs": [
				{
					"name": "stderr",
					"text": "You are already connected to a glueetl session 208def28-6474-4371-afbf-14c33cf5992d.\n\nNo change will be made to the current session that is set as glueetl. The session configuration change will apply to newly created sessions.\n",
					"output_type": "stream"
				},
				{
					"name": "stdout",
					"text": "Current idle_timeout is 2880 minutes.\nidle_timeout has been set to 2880 minutes.\n",
					"output_type": "stream"
				},
				{
					"name": "stderr",
					"text": "You are already connected to a glueetl session 208def28-6474-4371-afbf-14c33cf5992d.\n\nNo change will be made to the current session that is set as glueetl. The session configuration change will apply to newly created sessions.\n",
					"output_type": "stream"
				},
				{
					"name": "stdout",
					"text": "Setting Glue version to: 4.0\n",
					"output_type": "stream"
				},
				{
					"name": "stderr",
					"text": "You are already connected to a glueetl session 208def28-6474-4371-afbf-14c33cf5992d.\n\nNo change will be made to the current session that is set as glueetl. The session configuration change will apply to newly created sessions.\n",
					"output_type": "stream"
				},
				{
					"name": "stdout",
					"text": "Previous worker type: G.1X\nSetting new worker type to: G.1X\n",
					"output_type": "stream"
				},
				{
					"name": "stderr",
					"text": "You are already connected to a glueetl session 208def28-6474-4371-afbf-14c33cf5992d.\n\nNo change will be made to the current session that is set as glueetl. The session configuration change will apply to newly created sessions.\n",
					"output_type": "stream"
				},
				{
					"name": "stdout",
					"text": "Previous number of workers: 5\nSetting new number of workers to: 5\n\n",
					"output_type": "stream"
				}
			]
		},
		{
			"cell_type": "code",
			"source": "from pyspark.sql.functions import explode, col, to_date\nfrom datetime import datetime\nfrom awsglue.dynamicframe import DynamicFrame",
			"metadata": {
				"trusted": true,
				"tags": []
			},
			"execution_count": 34,
			"outputs": [
				{
					"name": "stdout",
					"text": "\n",
					"output_type": "stream"
				}
			]
		},
		{
			"cell_type": "code",
			"source": "s3_path = \"s3://spotify-etl-project-manas/raw_data/to_processed/\"\nsource_dyf = glueContext.create_dynamic_frame_from_options(\n    connection_type=\"s3\",\n    connection_options={\"paths\": [s3_path]},\n    format=\"json\",\n)",
			"metadata": {
				"trusted": true,
				"tags": []
			},
			"execution_count": 3,
			"outputs": [
				{
					"name": "stdout",
					"text": "\n",
					"output_type": "stream"
				}
			]
		},
		{
			"cell_type": "code",
			"source": "spotify_df = source_dyf.toDF()",
			"metadata": {
				"trusted": true,
				"tags": []
			},
			"execution_count": 4,
			"outputs": [
				{
					"name": "stdout",
					"text": "/opt/amazon/spark/python/lib/pyspark.zip/pyspark/sql/dataframe.py:127: UserWarning: DataFrame constructor is internal. Do not directly use it.\n",
					"output_type": "stream"
				}
			]
		},
		{
			"cell_type": "code",
			"source": "def process_album(df): \n    df = df.withColumn(\"items\", explode(\"items\")).select(col(\"items.track.album.id\").alias(\"album_id\"), \n                                               col(\"items.track.album.name\").alias(\"album_name\"),\n                                               col(\"items.track.album.release_date\").alias(\"release_date\"),\n                                               col(\"items.track.album.total_tracks\").alias(\"total_tracks\"),\n                                               col(\"items.track.album.external_urls.spotify\").alias(\"url\")\n                                               ).drop_duplicates(['album_id'])\n    return df\n\ndef process_artists(df): \n    df_items_exploded = df.select(explode(col(\"items\")).alias(\"item\"))\n    df_artist_exploded = df_items_exploded.select(explode(col(\"item.track.artists\")).alias(\"artists\"))\n    df_artist = df_artist_exploded.select(col(\"artists.id\").alias(\"artist_id\"),\n                         col(\"artists.name\").alias(\"artist_name\"),\n                         col(\"artists.external_urls.spotify\").alias(\"external_url\")).drop_duplicates(['artist_id'])\n    return df_artist\n\ndef process_songs(df) : \n    df_items_exploded = df.select(explode(col(\"items\")).alias(\"item\"))\n    df_songs = df_items_exploded.select(\n    col(\"item.track.id\").alias(\"song_id\"),\n    col(\"item.track.name\").alias(\"song_name\"),\n    col(\"item.track.duration_ms\").alias(\"duration_ms\"),\n    col(\"item.track.external_urls.spotify\").alias(\"url\"),\n    col(\"item.track.popularity\").alias(\"popularity\"),\n    col(\"item.added_at\").alias(\"song_added\"),\n    col(\"item.track.album.id\").alias(\"album_id\"),\n    col(\"item.track.artists\")[0][\"id\"].alias(\"artist_id\")\n    ).drop_duplicates(['song_id'])\n    \n    df_songs = df_songs.withColumn(\"song_added\",to_date(col(\"song_added\")))\n    return df_songs",
			"metadata": {
				"trusted": true,
				"tags": []
			},
			"execution_count": 26,
			"outputs": [
				{
					"name": "stdout",
					"text": "\n",
					"output_type": "stream"
				}
			]
		},
		{
			"cell_type": "code",
			"source": "album_df = process_album(spotify_df)\nalbum_df.show(5)",
			"metadata": {
				"trusted": true,
				"tags": []
			},
			"execution_count": 21,
			"outputs": [
				{
					"name": "stdout",
					"text": "+--------------------+--------------------+------------+------------+--------------------+\n|            album_id|          album_name|release_date|total_tracks|                 url|\n+--------------------+--------------------+------------+------------+--------------------+\n|0DLvFVIfwt3OHdK9k...|Where I've Been, ...|  2024-05-31|          12|https://open.spot...|\n|0EiI8ylL0FmWWpgHV...|The Rise and Fall...|  2023-09-22|          14|https://open.spot...|\n|0VRb8B2ls0GDEfmKi...|             Soltera|  2024-09-25|           1|https://open.spot...|\n|0XA403JTounqFh2ow...|          Diet Pepsi|  2024-08-09|           1|https://open.spot...|\n|0mV9Pfr1GfoZLkp1E...|          Embrace It|  2024-08-23|           1|https://open.spot...|\n+--------------------+--------------------+------------+------------+--------------------+\nonly showing top 5 rows\n",
					"output_type": "stream"
				}
			]
		},
		{
			"cell_type": "code",
			"source": "\nartist_df = process_artists(spotify_df)\nartist_df.show(5)",
			"metadata": {
				"trusted": true,
				"tags": []
			},
			"execution_count": 22,
			"outputs": [
				{
					"name": "stdout",
					"text": "+--------------------+------------+--------------------+\n|           artist_id| artist_name|        external_url|\n+--------------------+------------+--------------------+\n|06HL4z0CvFAxyc27G...|Taylor Swift|https://open.spot...|\n|0EmeFodog0BfCgMzA...|     Shakira|https://open.spot...|\n|0PCCGZ0wGLizHt2KZ...|     Artemas|https://open.spot...|\n|0Y5tJX1MQlPlqiwlO...|Travis Scott|https://open.spot...|\n|0du5cEVh5yTK9QJze...|  Bruno Mars|https://open.spot...|\n+--------------------+------------+--------------------+\nonly showing top 5 rows\n",
					"output_type": "stream"
				}
			]
		},
		{
			"cell_type": "code",
			"source": "song_df = process_songs(spotify_df)\nsong_df.show(10)",
			"metadata": {
				"trusted": true,
				"tags": []
			},
			"execution_count": 27,
			"outputs": [
				{
					"name": "stdout",
					"text": "+--------------------+--------------------+-----------+--------------------+----------+----------+--------------------+--------------------+\n|             song_id|           song_name|duration_ms|                 url|popularity|song_added|            album_id|           artist_id|\n+--------------------+--------------------+-----------+--------------------+----------+----------+--------------------+--------------------+\n|0IsIY8pfu1yaGkPUD...|Guess featuring b...|     143330|https://open.spot...|        74|2024-10-18|36P07bti6xD99o7S1...|25uiPmTg16RbhZWAq...|\n|0Sr7ssScx54yxdM2o...|Q U E V A S H A C...|     224022|https://open.spot...|        88|2024-10-18|3C5uwdRE5QRoXSGPP...|3E12tRURRvPfHz0hA...|\n|0WbMK4wrZ1wFSty9F...|    Good Luck, Babe!|     218423|https://open.spot...|        95|2024-10-18|1WAjjRMfZjEXtB0lQ...|7GlBOeep6PqTfFi59...|\n|0io16MKpbeDIdYzmG...|          Embrace It|     104418|https://open.spot...|        88|2024-10-18|0mV9Pfr1GfoZLkp1E...|5HK6QtizXJzCmoYTk...|\n|17phhZDn6oGtzMe56...|        Lose Control|     210688|https://open.spot...|        89|2024-10-18|7nacKlk586eLRBSIs...|33qOK5uJ8AR2xuQQA...|\n|19XpFsce28aByvCC4...|           Too Sweet|     251424|https://open.spot...|        83|2024-10-18|48qd9sU3xqYJbKaxH...|2FXC3k01G6Gw61bmp...|\n|1BxfuPKGuaTgP7aM0...|        Cruel Summer|     178426|https://open.spot...|        90|2024-10-18|1NAmidJlEaVgA3Mpc...|06HL4z0CvFAxyc27G...|\n|1Es7AUAhQvapIcoh3...|Timeless (with Pl...|     256000|https://open.spot...|        91|2024-10-18|2IRxVVqbSbqHJo8Zx...|1Xyo4u8uXC1ZmMpat...|\n|1UHS8Rf6h5Ar3CDWR...|            Bed Chem|     171869|https://open.spot...|        92|2024-10-18|3iPSVi54hsacKKl1x...|74KM79TiuVKeVCqs8...|\n|1cOboCuWYI2osTOfo...|             Tu Boda|     225880|https://open.spot...|        85|2024-10-18|60cQzWfmdg4hyDXrp...|3l9G1G9MxH6DaRhwL...|\n+--------------------+--------------------+-----------+--------------------+----------+----------+--------------------+--------------------+\nonly showing top 10 rows\n",
					"output_type": "stream"
				}
			]
		},
		{
			"cell_type": "code",
			"source": "def write_to_s3(df, path_suffix, format_type = \"csv\"):\n    dynamic_frame = DynamicFrame.fromDF(df, glueContext, \"dynamic_frame\")\n    glueContext.write_dynamic_frame.from_options(\n        frame=dynamic_frame,\n        connection_type=\"s3\",\n        connection_options={\"path\": \"s3://spotify-etl-project-manas/transformed_data/\" + path_suffix},\n        format=format_type\n    )",
			"metadata": {
				"trusted": true,
				"tags": []
			},
			"execution_count": 35,
			"outputs": [
				{
					"name": "stdout",
					"text": "\n",
					"output_type": "stream"
				}
			]
		},
		{
			"cell_type": "code",
			"source": "write_to_s3(album_df,\"album_data/album_tansforment_{}\".format(datetime.now().strftime(\"%Y%m%d\")),'csv')",
			"metadata": {
				"trusted": true,
				"tags": []
			},
			"execution_count": 39,
			"outputs": [
				{
					"name": "stdout",
					"text": "\n",
					"output_type": "stream"
				}
			]
		},
		{
			"cell_type": "code",
			"source": "write_to_s3(artist_df, \"artist_data/artist_transformed_{}\".format(datetime.now().strftime(\"%Y%m%d\")), 'csv')",
			"metadata": {
				"trusted": true,
				"tags": []
			},
			"execution_count": 40,
			"outputs": [
				{
					"name": "stdout",
					"text": "\n",
					"output_type": "stream"
				}
			]
		},
		{
			"cell_type": "code",
			"source": "write_to_s3(song_df, \"songs_data/song_transformed_{}\".format(datetime.now().strftime(\"%Y%m%d\")), 'csv')",
			"metadata": {
				"trusted": true,
				"tags": []
			},
			"execution_count": 41,
			"outputs": [
				{
					"name": "stdout",
					"text": "\n",
					"output_type": "stream"
				}
			]
		},
		{
			"cell_type": "code",
			"source": "",
			"metadata": {},
			"execution_count": null,
			"outputs": []
		}
	]
}